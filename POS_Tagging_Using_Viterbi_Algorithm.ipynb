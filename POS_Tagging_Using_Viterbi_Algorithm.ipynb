{
  "nbformat": 4,
  "nbformat_minor": 0,
  "metadata": {
    "colab": {
      "name": "POS Tagging Using Viterbi Algorithm",
      "provenance": [],
      "collapsed_sections": []
    },
    "kernelspec": {
      "name": "python3",
      "display_name": "Python 3"
    },
    "language_info": {
      "name": "python"
    }
  },
  "cells": [
    {
      "cell_type": "code",
      "metadata": {
        "id": "jY3QtsQM5qAV"
      },
      "source": [
        ""
      ],
      "execution_count": null,
      "outputs": []
    },
    {
      "cell_type": "code",
      "metadata": {
        "id": "a-i24pYK8SGS"
      },
      "source": [
        ""
      ],
      "execution_count": null,
      "outputs": []
    },
    {
      "cell_type": "code",
      "metadata": {
        "id": "WqOJi7A78SJn"
      },
      "source": [
        ""
      ],
      "execution_count": null,
      "outputs": []
    },
    {
      "cell_type": "markdown",
      "metadata": {
        "id": "cO25cd3a8VHy"
      },
      "source": [
        "Data Preparation\n"
      ]
    },
    {
      "cell_type": "code",
      "metadata": {
        "id": "HCNdUH0c8SNB"
      },
      "source": [
        "# Importing libraries\n",
        "import nltk\n",
        "import numpy as np\n",
        "import pandas as pd\n",
        "import random\n",
        "from sklearn.model_selection import train_test_split\n",
        "import pprint, time"
      ],
      "execution_count": null,
      "outputs": []
    },
    {
      "cell_type": "code",
      "metadata": {
        "colab": {
          "base_uri": "https://localhost:8080/"
        },
        "id": "a-ZOoMTn8SPy",
        "outputId": "61ef74b8-474b-45f9-e3ed-701a33ceb9fa"
      },
      "source": [
        "# reading the Treebank tagged sentences\n",
        "import nltk\n",
        "nltk.download('all')\n",
        "nltk_data = list(nltk.corpus.treebank.tagged_sents(tagset='universal'))"
      ],
      "execution_count": null,
      "outputs": [
        {
          "output_type": "stream",
          "text": [
            "[nltk_data] Downloading collection 'all'\n",
            "[nltk_data]    | \n",
            "[nltk_data]    | Downloading package abc to /root/nltk_data...\n",
            "[nltk_data]    |   Unzipping corpora/abc.zip.\n",
            "[nltk_data]    | Downloading package alpino to /root/nltk_data...\n",
            "[nltk_data]    |   Unzipping corpora/alpino.zip.\n",
            "[nltk_data]    | Downloading package biocreative_ppi to\n",
            "[nltk_data]    |     /root/nltk_data...\n",
            "[nltk_data]    |   Unzipping corpora/biocreative_ppi.zip.\n",
            "[nltk_data]    | Downloading package brown to /root/nltk_data...\n",
            "[nltk_data]    |   Unzipping corpora/brown.zip.\n",
            "[nltk_data]    | Downloading package brown_tei to /root/nltk_data...\n",
            "[nltk_data]    |   Unzipping corpora/brown_tei.zip.\n",
            "[nltk_data]    | Downloading package cess_cat to /root/nltk_data...\n",
            "[nltk_data]    |   Unzipping corpora/cess_cat.zip.\n",
            "[nltk_data]    | Downloading package cess_esp to /root/nltk_data...\n",
            "[nltk_data]    |   Unzipping corpora/cess_esp.zip.\n",
            "[nltk_data]    | Downloading package chat80 to /root/nltk_data...\n",
            "[nltk_data]    |   Unzipping corpora/chat80.zip.\n",
            "[nltk_data]    | Downloading package city_database to\n",
            "[nltk_data]    |     /root/nltk_data...\n",
            "[nltk_data]    |   Unzipping corpora/city_database.zip.\n",
            "[nltk_data]    | Downloading package cmudict to /root/nltk_data...\n",
            "[nltk_data]    |   Unzipping corpora/cmudict.zip.\n",
            "[nltk_data]    | Downloading package comparative_sentences to\n",
            "[nltk_data]    |     /root/nltk_data...\n",
            "[nltk_data]    |   Unzipping corpora/comparative_sentences.zip.\n",
            "[nltk_data]    | Downloading package comtrans to /root/nltk_data...\n",
            "[nltk_data]    | Downloading package conll2000 to /root/nltk_data...\n",
            "[nltk_data]    |   Unzipping corpora/conll2000.zip.\n",
            "[nltk_data]    | Downloading package conll2002 to /root/nltk_data...\n",
            "[nltk_data]    |   Unzipping corpora/conll2002.zip.\n",
            "[nltk_data]    | Downloading package conll2007 to /root/nltk_data...\n",
            "[nltk_data]    | Downloading package crubadan to /root/nltk_data...\n",
            "[nltk_data]    |   Unzipping corpora/crubadan.zip.\n",
            "[nltk_data]    | Downloading package dependency_treebank to\n",
            "[nltk_data]    |     /root/nltk_data...\n",
            "[nltk_data]    |   Unzipping corpora/dependency_treebank.zip.\n",
            "[nltk_data]    | Downloading package dolch to /root/nltk_data...\n",
            "[nltk_data]    |   Unzipping corpora/dolch.zip.\n",
            "[nltk_data]    | Downloading package europarl_raw to\n",
            "[nltk_data]    |     /root/nltk_data...\n",
            "[nltk_data]    |   Unzipping corpora/europarl_raw.zip.\n",
            "[nltk_data]    | Downloading package floresta to /root/nltk_data...\n",
            "[nltk_data]    |   Unzipping corpora/floresta.zip.\n",
            "[nltk_data]    | Downloading package framenet_v15 to\n",
            "[nltk_data]    |     /root/nltk_data...\n",
            "[nltk_data]    |   Unzipping corpora/framenet_v15.zip.\n",
            "[nltk_data]    | Downloading package framenet_v17 to\n",
            "[nltk_data]    |     /root/nltk_data...\n",
            "[nltk_data]    |   Unzipping corpora/framenet_v17.zip.\n",
            "[nltk_data]    | Downloading package gazetteers to /root/nltk_data...\n",
            "[nltk_data]    |   Unzipping corpora/gazetteers.zip.\n",
            "[nltk_data]    | Downloading package genesis to /root/nltk_data...\n",
            "[nltk_data]    |   Unzipping corpora/genesis.zip.\n",
            "[nltk_data]    | Downloading package gutenberg to /root/nltk_data...\n",
            "[nltk_data]    |   Unzipping corpora/gutenberg.zip.\n",
            "[nltk_data]    | Downloading package ieer to /root/nltk_data...\n",
            "[nltk_data]    |   Unzipping corpora/ieer.zip.\n",
            "[nltk_data]    | Downloading package inaugural to /root/nltk_data...\n",
            "[nltk_data]    |   Unzipping corpora/inaugural.zip.\n",
            "[nltk_data]    | Downloading package indian to /root/nltk_data...\n",
            "[nltk_data]    |   Unzipping corpora/indian.zip.\n",
            "[nltk_data]    | Downloading package jeita to /root/nltk_data...\n",
            "[nltk_data]    | Downloading package kimmo to /root/nltk_data...\n",
            "[nltk_data]    |   Unzipping corpora/kimmo.zip.\n",
            "[nltk_data]    | Downloading package knbc to /root/nltk_data...\n",
            "[nltk_data]    | Downloading package lin_thesaurus to\n",
            "[nltk_data]    |     /root/nltk_data...\n",
            "[nltk_data]    |   Unzipping corpora/lin_thesaurus.zip.\n",
            "[nltk_data]    | Downloading package mac_morpho to /root/nltk_data...\n",
            "[nltk_data]    |   Unzipping corpora/mac_morpho.zip.\n",
            "[nltk_data]    | Downloading package machado to /root/nltk_data...\n",
            "[nltk_data]    | Downloading package masc_tagged to /root/nltk_data...\n",
            "[nltk_data]    | Downloading package moses_sample to\n",
            "[nltk_data]    |     /root/nltk_data...\n",
            "[nltk_data]    |   Unzipping models/moses_sample.zip.\n",
            "[nltk_data]    | Downloading package movie_reviews to\n",
            "[nltk_data]    |     /root/nltk_data...\n",
            "[nltk_data]    |   Unzipping corpora/movie_reviews.zip.\n",
            "[nltk_data]    | Downloading package names to /root/nltk_data...\n",
            "[nltk_data]    |   Unzipping corpora/names.zip.\n",
            "[nltk_data]    | Downloading package nombank.1.0 to /root/nltk_data...\n",
            "[nltk_data]    | Downloading package nps_chat to /root/nltk_data...\n",
            "[nltk_data]    |   Unzipping corpora/nps_chat.zip.\n",
            "[nltk_data]    | Downloading package omw to /root/nltk_data...\n",
            "[nltk_data]    |   Unzipping corpora/omw.zip.\n",
            "[nltk_data]    | Downloading package opinion_lexicon to\n",
            "[nltk_data]    |     /root/nltk_data...\n",
            "[nltk_data]    |   Unzipping corpora/opinion_lexicon.zip.\n",
            "[nltk_data]    | Downloading package paradigms to /root/nltk_data...\n",
            "[nltk_data]    |   Unzipping corpora/paradigms.zip.\n",
            "[nltk_data]    | Downloading package pil to /root/nltk_data...\n",
            "[nltk_data]    |   Unzipping corpora/pil.zip.\n",
            "[nltk_data]    | Downloading package pl196x to /root/nltk_data...\n",
            "[nltk_data]    |   Unzipping corpora/pl196x.zip.\n",
            "[nltk_data]    | Downloading package ppattach to /root/nltk_data...\n",
            "[nltk_data]    |   Unzipping corpora/ppattach.zip.\n",
            "[nltk_data]    | Downloading package problem_reports to\n",
            "[nltk_data]    |     /root/nltk_data...\n",
            "[nltk_data]    |   Unzipping corpora/problem_reports.zip.\n",
            "[nltk_data]    | Downloading package propbank to /root/nltk_data...\n",
            "[nltk_data]    | Downloading package ptb to /root/nltk_data...\n",
            "[nltk_data]    |   Unzipping corpora/ptb.zip.\n",
            "[nltk_data]    | Downloading package product_reviews_1 to\n",
            "[nltk_data]    |     /root/nltk_data...\n",
            "[nltk_data]    |   Unzipping corpora/product_reviews_1.zip.\n",
            "[nltk_data]    | Downloading package product_reviews_2 to\n",
            "[nltk_data]    |     /root/nltk_data...\n",
            "[nltk_data]    |   Unzipping corpora/product_reviews_2.zip.\n",
            "[nltk_data]    | Downloading package pros_cons to /root/nltk_data...\n",
            "[nltk_data]    |   Unzipping corpora/pros_cons.zip.\n",
            "[nltk_data]    | Downloading package qc to /root/nltk_data...\n",
            "[nltk_data]    |   Unzipping corpora/qc.zip.\n",
            "[nltk_data]    | Downloading package reuters to /root/nltk_data...\n",
            "[nltk_data]    | Downloading package rte to /root/nltk_data...\n",
            "[nltk_data]    |   Unzipping corpora/rte.zip.\n",
            "[nltk_data]    | Downloading package semcor to /root/nltk_data...\n",
            "[nltk_data]    | Downloading package senseval to /root/nltk_data...\n",
            "[nltk_data]    |   Unzipping corpora/senseval.zip.\n",
            "[nltk_data]    | Downloading package sentiwordnet to\n",
            "[nltk_data]    |     /root/nltk_data...\n",
            "[nltk_data]    |   Unzipping corpora/sentiwordnet.zip.\n",
            "[nltk_data]    | Downloading package sentence_polarity to\n",
            "[nltk_data]    |     /root/nltk_data...\n",
            "[nltk_data]    |   Unzipping corpora/sentence_polarity.zip.\n",
            "[nltk_data]    | Downloading package shakespeare to /root/nltk_data...\n",
            "[nltk_data]    |   Unzipping corpora/shakespeare.zip.\n",
            "[nltk_data]    | Downloading package sinica_treebank to\n",
            "[nltk_data]    |     /root/nltk_data...\n",
            "[nltk_data]    |   Unzipping corpora/sinica_treebank.zip.\n",
            "[nltk_data]    | Downloading package smultron to /root/nltk_data...\n",
            "[nltk_data]    |   Unzipping corpora/smultron.zip.\n",
            "[nltk_data]    | Downloading package state_union to /root/nltk_data...\n",
            "[nltk_data]    |   Unzipping corpora/state_union.zip.\n",
            "[nltk_data]    | Downloading package stopwords to /root/nltk_data...\n",
            "[nltk_data]    |   Unzipping corpora/stopwords.zip.\n",
            "[nltk_data]    | Downloading package subjectivity to\n",
            "[nltk_data]    |     /root/nltk_data...\n",
            "[nltk_data]    |   Unzipping corpora/subjectivity.zip.\n",
            "[nltk_data]    | Downloading package swadesh to /root/nltk_data...\n",
            "[nltk_data]    |   Unzipping corpora/swadesh.zip.\n",
            "[nltk_data]    | Downloading package switchboard to /root/nltk_data...\n",
            "[nltk_data]    |   Unzipping corpora/switchboard.zip.\n",
            "[nltk_data]    | Downloading package timit to /root/nltk_data...\n",
            "[nltk_data]    |   Unzipping corpora/timit.zip.\n",
            "[nltk_data]    | Downloading package toolbox to /root/nltk_data...\n",
            "[nltk_data]    |   Unzipping corpora/toolbox.zip.\n",
            "[nltk_data]    | Downloading package treebank to /root/nltk_data...\n",
            "[nltk_data]    |   Unzipping corpora/treebank.zip.\n",
            "[nltk_data]    | Downloading package twitter_samples to\n",
            "[nltk_data]    |     /root/nltk_data...\n",
            "[nltk_data]    |   Unzipping corpora/twitter_samples.zip.\n",
            "[nltk_data]    | Downloading package udhr to /root/nltk_data...\n",
            "[nltk_data]    |   Unzipping corpora/udhr.zip.\n",
            "[nltk_data]    | Downloading package udhr2 to /root/nltk_data...\n",
            "[nltk_data]    |   Unzipping corpora/udhr2.zip.\n",
            "[nltk_data]    | Downloading package unicode_samples to\n",
            "[nltk_data]    |     /root/nltk_data...\n",
            "[nltk_data]    |   Unzipping corpora/unicode_samples.zip.\n",
            "[nltk_data]    | Downloading package universal_treebanks_v20 to\n",
            "[nltk_data]    |     /root/nltk_data...\n",
            "[nltk_data]    | Downloading package verbnet to /root/nltk_data...\n",
            "[nltk_data]    |   Unzipping corpora/verbnet.zip.\n",
            "[nltk_data]    | Downloading package verbnet3 to /root/nltk_data...\n",
            "[nltk_data]    |   Unzipping corpora/verbnet3.zip.\n",
            "[nltk_data]    | Downloading package webtext to /root/nltk_data...\n",
            "[nltk_data]    |   Unzipping corpora/webtext.zip.\n",
            "[nltk_data]    | Downloading package wordnet to /root/nltk_data...\n",
            "[nltk_data]    |   Unzipping corpora/wordnet.zip.\n",
            "[nltk_data]    | Downloading package wordnet_ic to /root/nltk_data...\n",
            "[nltk_data]    |   Unzipping corpora/wordnet_ic.zip.\n",
            "[nltk_data]    | Downloading package words to /root/nltk_data...\n",
            "[nltk_data]    |   Unzipping corpora/words.zip.\n",
            "[nltk_data]    | Downloading package ycoe to /root/nltk_data...\n",
            "[nltk_data]    |   Unzipping corpora/ycoe.zip.\n",
            "[nltk_data]    | Downloading package rslp to /root/nltk_data...\n",
            "[nltk_data]    |   Unzipping stemmers/rslp.zip.\n",
            "[nltk_data]    | Downloading package maxent_treebank_pos_tagger to\n",
            "[nltk_data]    |     /root/nltk_data...\n",
            "[nltk_data]    |   Unzipping taggers/maxent_treebank_pos_tagger.zip.\n",
            "[nltk_data]    | Downloading package universal_tagset to\n",
            "[nltk_data]    |     /root/nltk_data...\n",
            "[nltk_data]    |   Unzipping taggers/universal_tagset.zip.\n",
            "[nltk_data]    | Downloading package maxent_ne_chunker to\n",
            "[nltk_data]    |     /root/nltk_data...\n",
            "[nltk_data]    |   Unzipping chunkers/maxent_ne_chunker.zip.\n",
            "[nltk_data]    | Downloading package punkt to /root/nltk_data...\n",
            "[nltk_data]    |   Unzipping tokenizers/punkt.zip.\n",
            "[nltk_data]    | Downloading package book_grammars to\n",
            "[nltk_data]    |     /root/nltk_data...\n",
            "[nltk_data]    |   Unzipping grammars/book_grammars.zip.\n",
            "[nltk_data]    | Downloading package sample_grammars to\n",
            "[nltk_data]    |     /root/nltk_data...\n",
            "[nltk_data]    |   Unzipping grammars/sample_grammars.zip.\n",
            "[nltk_data]    | Downloading package spanish_grammars to\n",
            "[nltk_data]    |     /root/nltk_data...\n",
            "[nltk_data]    |   Unzipping grammars/spanish_grammars.zip.\n",
            "[nltk_data]    | Downloading package basque_grammars to\n",
            "[nltk_data]    |     /root/nltk_data...\n",
            "[nltk_data]    |   Unzipping grammars/basque_grammars.zip.\n",
            "[nltk_data]    | Downloading package large_grammars to\n",
            "[nltk_data]    |     /root/nltk_data...\n",
            "[nltk_data]    |   Unzipping grammars/large_grammars.zip.\n",
            "[nltk_data]    | Downloading package tagsets to /root/nltk_data...\n",
            "[nltk_data]    |   Unzipping help/tagsets.zip.\n",
            "[nltk_data]    | Downloading package snowball_data to\n",
            "[nltk_data]    |     /root/nltk_data...\n",
            "[nltk_data]    | Downloading package bllip_wsj_no_aux to\n",
            "[nltk_data]    |     /root/nltk_data...\n",
            "[nltk_data]    |   Unzipping models/bllip_wsj_no_aux.zip.\n",
            "[nltk_data]    | Downloading package word2vec_sample to\n",
            "[nltk_data]    |     /root/nltk_data...\n",
            "[nltk_data]    |   Unzipping models/word2vec_sample.zip.\n",
            "[nltk_data]    | Downloading package panlex_swadesh to\n",
            "[nltk_data]    |     /root/nltk_data...\n",
            "[nltk_data]    | Downloading package mte_teip5 to /root/nltk_data...\n",
            "[nltk_data]    |   Unzipping corpora/mte_teip5.zip.\n",
            "[nltk_data]    | Downloading package averaged_perceptron_tagger to\n",
            "[nltk_data]    |     /root/nltk_data...\n",
            "[nltk_data]    |   Unzipping taggers/averaged_perceptron_tagger.zip.\n",
            "[nltk_data]    | Downloading package averaged_perceptron_tagger_ru to\n",
            "[nltk_data]    |     /root/nltk_data...\n",
            "[nltk_data]    |   Unzipping\n",
            "[nltk_data]    |       taggers/averaged_perceptron_tagger_ru.zip.\n",
            "[nltk_data]    | Downloading package perluniprops to\n",
            "[nltk_data]    |     /root/nltk_data...\n",
            "[nltk_data]    |   Unzipping misc/perluniprops.zip.\n",
            "[nltk_data]    | Downloading package nonbreaking_prefixes to\n",
            "[nltk_data]    |     /root/nltk_data...\n",
            "[nltk_data]    |   Unzipping corpora/nonbreaking_prefixes.zip.\n",
            "[nltk_data]    | Downloading package vader_lexicon to\n",
            "[nltk_data]    |     /root/nltk_data...\n",
            "[nltk_data]    | Downloading package porter_test to /root/nltk_data...\n",
            "[nltk_data]    |   Unzipping stemmers/porter_test.zip.\n",
            "[nltk_data]    | Downloading package wmt15_eval to /root/nltk_data...\n",
            "[nltk_data]    |   Unzipping models/wmt15_eval.zip.\n",
            "[nltk_data]    | Downloading package mwa_ppdb to /root/nltk_data...\n",
            "[nltk_data]    |   Unzipping misc/mwa_ppdb.zip.\n",
            "[nltk_data]    | \n",
            "[nltk_data]  Done downloading collection all\n"
          ],
          "name": "stdout"
        }
      ]
    },
    {
      "cell_type": "code",
      "metadata": {
        "colab": {
          "base_uri": "https://localhost:8080/"
        },
        "id": "iIa4rTSq8STK",
        "outputId": "6eca9c88-0adc-45ab-e725-2b9617173fd4"
      },
      "source": [
        "print(nltk_data[1:5])"
      ],
      "execution_count": null,
      "outputs": [
        {
          "output_type": "stream",
          "text": [
            "[[('Mr.', 'NOUN'), ('Vinken', 'NOUN'), ('is', 'VERB'), ('chairman', 'NOUN'), ('of', 'ADP'), ('Elsevier', 'NOUN'), ('N.V.', 'NOUN'), (',', '.'), ('the', 'DET'), ('Dutch', 'NOUN'), ('publishing', 'VERB'), ('group', 'NOUN'), ('.', '.')], [('Rudolph', 'NOUN'), ('Agnew', 'NOUN'), (',', '.'), ('55', 'NUM'), ('years', 'NOUN'), ('old', 'ADJ'), ('and', 'CONJ'), ('former', 'ADJ'), ('chairman', 'NOUN'), ('of', 'ADP'), ('Consolidated', 'NOUN'), ('Gold', 'NOUN'), ('Fields', 'NOUN'), ('PLC', 'NOUN'), (',', '.'), ('was', 'VERB'), ('named', 'VERB'), ('*-1', 'X'), ('a', 'DET'), ('nonexecutive', 'ADJ'), ('director', 'NOUN'), ('of', 'ADP'), ('this', 'DET'), ('British', 'ADJ'), ('industrial', 'ADJ'), ('conglomerate', 'NOUN'), ('.', '.')], [('A', 'DET'), ('form', 'NOUN'), ('of', 'ADP'), ('asbestos', 'NOUN'), ('once', 'ADV'), ('used', 'VERB'), ('*', 'X'), ('*', 'X'), ('to', 'PRT'), ('make', 'VERB'), ('Kent', 'NOUN'), ('cigarette', 'NOUN'), ('filters', 'NOUN'), ('has', 'VERB'), ('caused', 'VERB'), ('a', 'DET'), ('high', 'ADJ'), ('percentage', 'NOUN'), ('of', 'ADP'), ('cancer', 'NOUN'), ('deaths', 'NOUN'), ('among', 'ADP'), ('a', 'DET'), ('group', 'NOUN'), ('of', 'ADP'), ('workers', 'NOUN'), ('exposed', 'VERB'), ('*', 'X'), ('to', 'PRT'), ('it', 'PRON'), ('more', 'ADV'), ('than', 'ADP'), ('30', 'NUM'), ('years', 'NOUN'), ('ago', 'ADP'), (',', '.'), ('researchers', 'NOUN'), ('reported', 'VERB'), ('0', 'X'), ('*T*-1', 'X'), ('.', '.')], [('The', 'DET'), ('asbestos', 'NOUN'), ('fiber', 'NOUN'), (',', '.'), ('crocidolite', 'NOUN'), (',', '.'), ('is', 'VERB'), ('unusually', 'ADV'), ('resilient', 'ADJ'), ('once', 'ADP'), ('it', 'PRON'), ('enters', 'VERB'), ('the', 'DET'), ('lungs', 'NOUN'), (',', '.'), ('with', 'ADP'), ('even', 'ADV'), ('brief', 'ADJ'), ('exposures', 'NOUN'), ('to', 'PRT'), ('it', 'PRON'), ('causing', 'VERB'), ('symptoms', 'NOUN'), ('that', 'DET'), ('*T*-1', 'X'), ('show', 'VERB'), ('up', 'PRT'), ('decades', 'NOUN'), ('later', 'ADJ'), (',', '.'), ('researchers', 'NOUN'), ('said', 'VERB'), ('0', 'X'), ('*T*-2', 'X'), ('.', '.')]]\n"
          ],
          "name": "stdout"
        }
      ]
    },
    {
      "cell_type": "code",
      "metadata": {
        "id": "aeMPmisS9xRi"
      },
      "source": [
        "\n",
        "train_set,test_set = train_test_split(nltk_data,train_size=0.95,test_size=0.05,random_state = 11)"
      ],
      "execution_count": null,
      "outputs": []
    },
    {
      "cell_type": "code",
      "metadata": {
        "colab": {
          "base_uri": "https://localhost:8080/"
        },
        "id": "MYPQus2u96U1",
        "outputId": "bbd08c63-0655-456e-e4dd-44401074699c"
      },
      "source": [
        "\n",
        "# create list of train and test tagged words\n",
        "train_tagged_words = [tup for sent in train_set for tup in sent]\n",
        "test_tagged_words = [tup[0] for sent in test_set for tup in sent]\n",
        "print(len(train_tagged_words))\n",
        "print(len(test_tagged_words))"
      ],
      "execution_count": null,
      "outputs": [
        {
          "output_type": "stream",
          "text": [
            "95887\n",
            "4789\n"
          ],
          "name": "stdout"
        }
      ]
    },
    {
      "cell_type": "code",
      "metadata": {
        "colab": {
          "base_uri": "https://localhost:8080/"
        },
        "id": "ptZP5GoG-foA",
        "outputId": "4a26592c-d91d-4661-9f68-3a9f10254472"
      },
      "source": [
        "train_tagged_words[1:5]"
      ],
      "execution_count": null,
      "outputs": [
        {
          "output_type": "execute_result",
          "data": {
            "text/plain": [
              "[('Bernstein', 'NOUN'), (',', '.'), ('a', 'DET'), ('tall', 'ADJ')]"
            ]
          },
          "metadata": {
            "tags": []
          },
          "execution_count": 7
        }
      ]
    },
    {
      "cell_type": "code",
      "metadata": {
        "colab": {
          "base_uri": "https://localhost:8080/"
        },
        "id": "rzqMpjBw-kOd",
        "outputId": "40a68d92-3152-4056-bfc6-600001da8ea8"
      },
      "source": [
        "# let's check how many unique tags are present in training data\n",
        "tags = {tag for word,tag in train_tagged_words}\n",
        "print(len(tags))\n",
        "print(tags)"
      ],
      "execution_count": null,
      "outputs": [
        {
          "output_type": "stream",
          "text": [
            "12\n",
            "{'ADV', 'ADP', 'NUM', '.', 'DET', 'NOUN', 'PRON', 'CONJ', 'VERB', 'ADJ', 'X', 'PRT'}\n"
          ],
          "name": "stdout"
        }
      ]
    },
    {
      "cell_type": "code",
      "metadata": {
        "colab": {
          "base_uri": "https://localhost:8080/"
        },
        "id": "pO7DqQY8-wZK",
        "outputId": "63da3330-7edb-46c5-e38b-38ea1dc2619e"
      },
      "source": [
        "# let's check how many words are present in vocabulary\n",
        "vocab = {word for word,tag in train_tagged_words}\n",
        "print(len(vocab))"
      ],
      "execution_count": null,
      "outputs": [
        {
          "output_type": "stream",
          "text": [
            "12085\n"
          ],
          "name": "stdout"
        }
      ]
    },
    {
      "cell_type": "code",
      "metadata": {
        "id": "6ZqNBWNk-2GU"
      },
      "source": [
        ""
      ],
      "execution_count": null,
      "outputs": []
    },
    {
      "cell_type": "code",
      "metadata": {
        "id": "6kyYpnJJ_Swa"
      },
      "source": [
        ""
      ],
      "execution_count": null,
      "outputs": []
    },
    {
      "cell_type": "markdown",
      "metadata": {
        "id": "hBCp4Q8W_ZrK"
      },
      "source": [
        "Build the Vanilla Viterbi based POS tagger"
      ]
    },
    {
      "cell_type": "code",
      "metadata": {
        "id": "kRYtteGJ_S0B"
      },
      "source": [
        "# compute emission probability for a given word for a given tag\n",
        "def word_given_tag(word,tag,train_bag= train_tagged_words):\n",
        "    taglist = [pair for pair in train_bag if pair[1] == tag]\n",
        "    tag_count = len(taglist)    \n",
        "    w_in_tag = [pair[0] for pair in taglist if pair[0]==word]    \n",
        "    word_count_given_tag = len(w_in_tag)    \n",
        "    \n",
        "    return (word_count_given_tag,tag_count)"
      ],
      "execution_count": null,
      "outputs": []
    },
    {
      "cell_type": "code",
      "metadata": {
        "id": "XIGML4Oh_S3h"
      },
      "source": [
        "# compute transition probabilities of a previous and next tag\n",
        "def t2_given_t1(t2,t1,train_bag=train_tagged_words):\n",
        "    tags = [pair[1] for pair in train_bag]\n",
        "    \n",
        "    t1_tags = [tag for tag in tags if tag==t1]\n",
        "    \n",
        "    count_of_t1 = len(t1_tags)\n",
        "    \n",
        "    t2_given_t1 = [tags[index+1] for index in range(len(tags)-1) if tags[index] == t1 and tags[index+1] == t2]\n",
        "    \n",
        "    count_t2_given_t1 = len(t2_given_t1)\n",
        "    \n",
        "    return(count_t2_given_t1,count_of_t1)"
      ],
      "execution_count": null,
      "outputs": []
    },
    {
      "cell_type": "code",
      "metadata": {
        "colab": {
          "base_uri": "https://localhost:8080/"
        },
        "id": "YlYYxQZkAmYl",
        "outputId": "74bd3bc5-858e-46d4-92df-82bf27539405"
      },
      "source": [
        "t2_given_t1('NOUN','DET')"
      ],
      "execution_count": null,
      "outputs": [
        {
          "output_type": "execute_result",
          "data": {
            "text/plain": [
              "(5293, 8317)"
            ]
          },
          "metadata": {
            "tags": []
          },
          "execution_count": 13
        }
      ]
    },
    {
      "cell_type": "code",
      "metadata": {
        "id": "CP50rzByAmb0"
      },
      "source": [
        "# creating t x t transition matrix of tags\n",
        "# each column is t2, each row is t1\n",
        "# thus M(i, j) represents P(tj given ti)\n",
        "\n",
        "tags_matrix = np.zeros((len(tags), len(tags)), dtype='float32')\n",
        "for i, t1 in enumerate(list(tags)):\n",
        "    for j, t2 in enumerate(list(tags)): \n",
        "        tags_matrix[i, j] = t2_given_t1(t2, t1)[0]/t2_given_t1(t2, t1)[1]"
      ],
      "execution_count": null,
      "outputs": []
    },
    {
      "cell_type": "code",
      "metadata": {
        "id": "863K96L7AmeM"
      },
      "source": [
        "\n",
        "# convert the matrix to a df for better readability\n",
        "tags_df = pd.DataFrame(tags_matrix, columns = list(tags), index=list(tags))"
      ],
      "execution_count": null,
      "outputs": []
    },
    {
      "cell_type": "code",
      "metadata": {
        "colab": {
          "base_uri": "https://localhost:8080/",
          "height": 422
        },
        "id": "EY6hbHhtAmhn",
        "outputId": "3b005b9d-4130-41aa-dc75-e19a63a86b1d"
      },
      "source": [
        "tags_df"
      ],
      "execution_count": null,
      "outputs": [
        {
          "output_type": "execute_result",
          "data": {
            "text/html": [
              "<div>\n",
              "<style scoped>\n",
              "    .dataframe tbody tr th:only-of-type {\n",
              "        vertical-align: middle;\n",
              "    }\n",
              "\n",
              "    .dataframe tbody tr th {\n",
              "        vertical-align: top;\n",
              "    }\n",
              "\n",
              "    .dataframe thead th {\n",
              "        text-align: right;\n",
              "    }\n",
              "</style>\n",
              "<table border=\"1\" class=\"dataframe\">\n",
              "  <thead>\n",
              "    <tr style=\"text-align: right;\">\n",
              "      <th></th>\n",
              "      <th>ADV</th>\n",
              "      <th>ADP</th>\n",
              "      <th>NUM</th>\n",
              "      <th>.</th>\n",
              "      <th>DET</th>\n",
              "      <th>NOUN</th>\n",
              "      <th>PRON</th>\n",
              "      <th>CONJ</th>\n",
              "      <th>VERB</th>\n",
              "      <th>ADJ</th>\n",
              "      <th>X</th>\n",
              "      <th>PRT</th>\n",
              "    </tr>\n",
              "  </thead>\n",
              "  <tbody>\n",
              "    <tr>\n",
              "      <th>ADV</th>\n",
              "      <td>0.078991</td>\n",
              "      <td>0.118155</td>\n",
              "      <td>0.031862</td>\n",
              "      <td>0.135413</td>\n",
              "      <td>0.069034</td>\n",
              "      <td>0.031862</td>\n",
              "      <td>0.015267</td>\n",
              "      <td>0.007302</td>\n",
              "      <td>0.344839</td>\n",
              "      <td>0.130767</td>\n",
              "      <td>0.022901</td>\n",
              "      <td>0.013608</td>\n",
              "    </tr>\n",
              "    <tr>\n",
              "      <th>ADP</th>\n",
              "      <td>0.013191</td>\n",
              "      <td>0.016489</td>\n",
              "      <td>0.062766</td>\n",
              "      <td>0.040532</td>\n",
              "      <td>0.324468</td>\n",
              "      <td>0.321702</td>\n",
              "      <td>0.069362</td>\n",
              "      <td>0.000851</td>\n",
              "      <td>0.008298</td>\n",
              "      <td>0.106809</td>\n",
              "      <td>0.034149</td>\n",
              "      <td>0.001383</td>\n",
              "    </tr>\n",
              "    <tr>\n",
              "      <th>NUM</th>\n",
              "      <td>0.003222</td>\n",
              "      <td>0.035149</td>\n",
              "      <td>0.188049</td>\n",
              "      <td>0.115114</td>\n",
              "      <td>0.003222</td>\n",
              "      <td>0.350322</td>\n",
              "      <td>0.001465</td>\n",
              "      <td>0.013474</td>\n",
              "      <td>0.018161</td>\n",
              "      <td>0.033099</td>\n",
              "      <td>0.211775</td>\n",
              "      <td>0.026948</td>\n",
              "    </tr>\n",
              "    <tr>\n",
              "      <th>.</th>\n",
              "      <td>0.052561</td>\n",
              "      <td>0.090322</td>\n",
              "      <td>0.081980</td>\n",
              "      <td>0.092475</td>\n",
              "      <td>0.174096</td>\n",
              "      <td>0.221545</td>\n",
              "      <td>0.065387</td>\n",
              "      <td>0.057584</td>\n",
              "      <td>0.089963</td>\n",
              "      <td>0.044130</td>\n",
              "      <td>0.027446</td>\n",
              "      <td>0.002422</td>\n",
              "    </tr>\n",
              "    <tr>\n",
              "      <th>DET</th>\n",
              "      <td>0.012865</td>\n",
              "      <td>0.009619</td>\n",
              "      <td>0.022484</td>\n",
              "      <td>0.017675</td>\n",
              "      <td>0.005290</td>\n",
              "      <td>0.636407</td>\n",
              "      <td>0.003487</td>\n",
              "      <td>0.000481</td>\n",
              "      <td>0.039317</td>\n",
              "      <td>0.205964</td>\n",
              "      <td>0.046170</td>\n",
              "      <td>0.000240</td>\n",
              "    </tr>\n",
              "    <tr>\n",
              "      <th>NOUN</th>\n",
              "      <td>0.016905</td>\n",
              "      <td>0.177834</td>\n",
              "      <td>0.009546</td>\n",
              "      <td>0.240682</td>\n",
              "      <td>0.013153</td>\n",
              "      <td>0.263745</td>\n",
              "      <td>0.004773</td>\n",
              "      <td>0.042008</td>\n",
              "      <td>0.146537</td>\n",
              "      <td>0.012060</td>\n",
              "      <td>0.028928</td>\n",
              "      <td>0.043830</td>\n",
              "    </tr>\n",
              "    <tr>\n",
              "      <th>PRON</th>\n",
              "      <td>0.035141</td>\n",
              "      <td>0.023300</td>\n",
              "      <td>0.007257</td>\n",
              "      <td>0.039725</td>\n",
              "      <td>0.009931</td>\n",
              "      <td>0.209320</td>\n",
              "      <td>0.007257</td>\n",
              "      <td>0.005348</td>\n",
              "      <td>0.484339</td>\n",
              "      <td>0.074102</td>\n",
              "      <td>0.091291</td>\n",
              "      <td>0.012987</td>\n",
              "    </tr>\n",
              "    <tr>\n",
              "      <th>CONJ</th>\n",
              "      <td>0.053496</td>\n",
              "      <td>0.053027</td>\n",
              "      <td>0.043172</td>\n",
              "      <td>0.034725</td>\n",
              "      <td>0.118254</td>\n",
              "      <td>0.349132</td>\n",
              "      <td>0.059127</td>\n",
              "      <td>0.000469</td>\n",
              "      <td>0.157672</td>\n",
              "      <td>0.116847</td>\n",
              "      <td>0.008916</td>\n",
              "      <td>0.005162</td>\n",
              "    </tr>\n",
              "    <tr>\n",
              "      <th>VERB</th>\n",
              "      <td>0.081550</td>\n",
              "      <td>0.090853</td>\n",
              "      <td>0.022868</td>\n",
              "      <td>0.034884</td>\n",
              "      <td>0.134961</td>\n",
              "      <td>0.108992</td>\n",
              "      <td>0.036202</td>\n",
              "      <td>0.005426</td>\n",
              "      <td>0.168682</td>\n",
              "      <td>0.065504</td>\n",
              "      <td>0.218372</td>\n",
              "      <td>0.031705</td>\n",
              "    </tr>\n",
              "    <tr>\n",
              "      <th>ADJ</th>\n",
              "      <td>0.004737</td>\n",
              "      <td>0.077589</td>\n",
              "      <td>0.020745</td>\n",
              "      <td>0.064685</td>\n",
              "      <td>0.004574</td>\n",
              "      <td>0.699771</td>\n",
              "      <td>0.000653</td>\n",
              "      <td>0.016498</td>\n",
              "      <td>0.011761</td>\n",
              "      <td>0.067298</td>\n",
              "      <td>0.020582</td>\n",
              "      <td>0.011107</td>\n",
              "    </tr>\n",
              "    <tr>\n",
              "      <th>X</th>\n",
              "      <td>0.026015</td>\n",
              "      <td>0.145780</td>\n",
              "      <td>0.002855</td>\n",
              "      <td>0.162912</td>\n",
              "      <td>0.054251</td>\n",
              "      <td>0.062183</td>\n",
              "      <td>0.055838</td>\n",
              "      <td>0.009994</td>\n",
              "      <td>0.203839</td>\n",
              "      <td>0.017449</td>\n",
              "      <td>0.073921</td>\n",
              "      <td>0.184962</td>\n",
              "    </tr>\n",
              "    <tr>\n",
              "      <th>PRT</th>\n",
              "      <td>0.010417</td>\n",
              "      <td>0.019857</td>\n",
              "      <td>0.055990</td>\n",
              "      <td>0.042969</td>\n",
              "      <td>0.101888</td>\n",
              "      <td>0.245443</td>\n",
              "      <td>0.018880</td>\n",
              "      <td>0.002279</td>\n",
              "      <td>0.401042</td>\n",
              "      <td>0.086263</td>\n",
              "      <td>0.013021</td>\n",
              "      <td>0.001953</td>\n",
              "    </tr>\n",
              "  </tbody>\n",
              "</table>\n",
              "</div>"
            ],
            "text/plain": [
              "           ADV       ADP       NUM  ...       ADJ         X       PRT\n",
              "ADV   0.078991  0.118155  0.031862  ...  0.130767  0.022901  0.013608\n",
              "ADP   0.013191  0.016489  0.062766  ...  0.106809  0.034149  0.001383\n",
              "NUM   0.003222  0.035149  0.188049  ...  0.033099  0.211775  0.026948\n",
              ".     0.052561  0.090322  0.081980  ...  0.044130  0.027446  0.002422\n",
              "DET   0.012865  0.009619  0.022484  ...  0.205964  0.046170  0.000240\n",
              "NOUN  0.016905  0.177834  0.009546  ...  0.012060  0.028928  0.043830\n",
              "PRON  0.035141  0.023300  0.007257  ...  0.074102  0.091291  0.012987\n",
              "CONJ  0.053496  0.053027  0.043172  ...  0.116847  0.008916  0.005162\n",
              "VERB  0.081550  0.090853  0.022868  ...  0.065504  0.218372  0.031705\n",
              "ADJ   0.004737  0.077589  0.020745  ...  0.067298  0.020582  0.011107\n",
              "X     0.026015  0.145780  0.002855  ...  0.017449  0.073921  0.184962\n",
              "PRT   0.010417  0.019857  0.055990  ...  0.086263  0.013021  0.001953\n",
              "\n",
              "[12 rows x 12 columns]"
            ]
          },
          "metadata": {
            "tags": []
          },
          "execution_count": 16
        }
      ]
    },
    {
      "cell_type": "code",
      "metadata": {
        "id": "OMw3hBe9Amjr"
      },
      "source": [
        ""
      ],
      "execution_count": null,
      "outputs": []
    },
    {
      "cell_type": "markdown",
      "metadata": {
        "id": "_4IfMhWMBF3Q"
      },
      "source": [
        "Viterbi Algorithm Steps:\n"
      ]
    },
    {
      "cell_type": "code",
      "metadata": {
        "id": "rG8nseWcAmpQ"
      },
      "source": [
        "# Vanilla Viterbi Algorithm\n",
        "def Viterbi(words, train_bag = train_tagged_words):\n",
        "    state = []\n",
        "    \n",
        "    T = list(set([pair[1] for pair in train_bag]))\n",
        "    \n",
        "    for key, word in enumerate(words):\n",
        "        #initialise list of probability column for a given observation\n",
        "        p = [] \n",
        "        for tag in T:\n",
        "            if key == 0:\n",
        "                transition_p = tags_df.loc['.', tag]\n",
        "            else:\n",
        "                transition_p = tags_df.loc[state[-1], tag]\n",
        "                \n",
        "            # compute emission and state probabilities\n",
        "            emission_p = word_given_tag(words[key], tag)[0]/word_given_tag(words[key], tag)[1]\n",
        "            state_probability = emission_p * transition_p    \n",
        "            p.append(state_probability)\n",
        "            \n",
        "        pmax = max(p)\n",
        "        # getting state for which probability is maximum\n",
        "        state_max = T[p.index(pmax)] \n",
        "        state.append(state_max)\n",
        "    return list(zip(words, state))"
      ],
      "execution_count": null,
      "outputs": []
    },
    {
      "cell_type": "code",
      "metadata": {
        "id": "mOLBKNd6_S77"
      },
      "source": [
        "# Let's test our Viterbi algorithm on a few sample sentences of test dataset\n",
        "\n",
        "random.seed(1234)\n",
        "\n",
        "# choose random 5 sents\n",
        "rndom = [random.randint(1,len(test_set)) for x in range(5)]\n",
        "\n",
        "# list of sents\n",
        "test_run = [test_set[i] for i in rndom]\n",
        "\n",
        "# list of tagged words\n",
        "test_run_base = [tup for sent in test_run for tup in sent]\n",
        "\n",
        "# list of untagged words\n",
        "test_tagged_words = [tup[0] for sent in test_run for tup in sent]"
      ],
      "execution_count": null,
      "outputs": []
    },
    {
      "cell_type": "code",
      "metadata": {
        "colab": {
          "base_uri": "https://localhost:8080/"
        },
        "id": "xei0S6Uc_TCm",
        "outputId": "d93c6133-96ad-4095-9b4b-ef69cf3f0726"
      },
      "source": [
        "# tagging the test sentences\n",
        "start = time.time()\n",
        "tagged_seq = Viterbi(test_tagged_words)\n",
        "end = time.time()\n",
        "difference = end-start\n",
        "\n",
        "print(\"Time taken in seconds: \", difference)\n",
        "\n",
        "# accuracy\n",
        "check = [i for i, j in zip(tagged_seq, test_run_base) if i == j] \n",
        "\n",
        "accuracy = len(check)/len(tagged_seq)\n",
        "print('Vanilla Viterbi Algorithm Accuracy: ',accuracy*100)"
      ],
      "execution_count": null,
      "outputs": [
        {
          "output_type": "stream",
          "text": [
            "Time taken in seconds:  23.184030771255493\n",
            "Vanilla Viterbi Algorithm Accuracy:  89.47368421052632\n"
          ],
          "name": "stdout"
        }
      ]
    },
    {
      "cell_type": "code",
      "metadata": {
        "colab": {
          "base_uri": "https://localhost:8080/"
        },
        "id": "duDS3D7__TF4",
        "outputId": "1b1e4d64-0bfb-4443-b085-784b23b9a9ce"
      },
      "source": [
        "# let's check the incorrectly tagged words\n",
        "[j for i, j in enumerate(zip(tagged_seq, test_run_base)) if j[0] != j[1]]"
      ],
      "execution_count": null,
      "outputs": [
        {
          "output_type": "execute_result",
          "data": {
            "text/plain": [
              "[(('shipboard', 'ADV'), ('shipboard', 'NOUN')),\n",
              " (('next', 'ADP'), ('next', 'ADJ')),\n",
              " (('Soviet', 'ADJ'), ('Soviet', 'NOUN')),\n",
              " (('off', 'PRT'), ('off', 'ADP')),\n",
              " (('Malta', 'ADV'), ('Malta', 'NOUN')),\n",
              " (('Yet', 'CONJ'), ('Yet', 'ADV')),\n",
              " (('Giraud', 'ADV'), ('Giraud', 'NOUN')),\n",
              " (('significance', 'ADV'), ('significance', 'NOUN')),\n",
              " (('hypocrisy', 'ADV'), ('hypocrisy', 'NOUN')),\n",
              " (('ancillary', 'ADV'), ('ancillary', 'ADJ')),\n",
              " (('swapped', 'ADV'), ('swapped', 'VERB')),\n",
              " (('less', 'ADV'), ('less', 'ADJ'))]"
            ]
          },
          "metadata": {
            "tags": []
          },
          "execution_count": 21
        }
      ]
    },
    {
      "cell_type": "code",
      "metadata": {
        "id": "TknZOlmL_TJW"
      },
      "source": [
        ""
      ],
      "execution_count": null,
      "outputs": []
    },
    {
      "cell_type": "code",
      "metadata": {
        "id": "z12Rczj1DrSQ"
      },
      "source": [
        ""
      ],
      "execution_count": null,
      "outputs": []
    },
    {
      "cell_type": "markdown",
      "metadata": {
        "id": "vVSOC04BDrd4"
      },
      "source": [
        "Solve the problem of unknown words\n",
        "We can see that all of unknown words have been tagged as 'NUM' as 'NUM' is the first tag in tag list and is assigned if unknown word is encountered (emission probability =0).\n",
        "\n",
        "Viterbi Modification-Technique I\n",
        "First solution for unknown words: assign based on transition probabilities only in case of unknown words as emission probability for unknown word is zero."
      ]
    },
    {
      "cell_type": "code",
      "metadata": {
        "id": "vRZR8dPt_TLm"
      },
      "source": [
        "# use transition probability of tags when emission probability is zero (in case of unknown words)\n",
        "\n",
        "def Viterbi_1(words, train_bag = train_tagged_words):\n",
        "    state = []\n",
        "    T = list(set([pair[1] for pair in train_bag]))\n",
        "    \n",
        "    for key, word in enumerate(words):\n",
        "        #initialise list of probability column for a given observation\n",
        "        p = [] \n",
        "        p_transition =[] # list for storing transition probabilities\n",
        "        for tag in T:\n",
        "            if key == 0:\n",
        "                transition_p = tags_df.loc['.', tag]\n",
        "            else:\n",
        "                transition_p = tags_df.loc[state[-1], tag]\n",
        "                \n",
        "            # compute emission and state probabilities\n",
        "            emission_p = word_given_tag(words[key], tag)[0]/word_given_tag(words[key], tag)[1]\n",
        "            state_probability = emission_p * transition_p    \n",
        "            p.append(state_probability)\n",
        "            p_transition.append(transition_p)\n",
        "            \n",
        "        pmax = max(p)\n",
        "        state_max = T[p.index(pmax)] \n",
        "        \n",
        "      \n",
        "        # if probability is zero (unknown word) then use transition probability\n",
        "        if(pmax==0):\n",
        "            pmax = max(p_transition)\n",
        "            state_max = T[p_transition.index(pmax)]\n",
        "                           \n",
        "        else:\n",
        "            state_max = T[p.index(pmax)] \n",
        "        \n",
        "        state.append(state_max)\n",
        "    return list(zip(words, state))"
      ],
      "execution_count": null,
      "outputs": []
    },
    {
      "cell_type": "code",
      "metadata": {
        "colab": {
          "base_uri": "https://localhost:8080/"
        },
        "id": "oGmfnnse_TPl",
        "outputId": "54e07530-30cb-41f3-f0b3-e09202d06722"
      },
      "source": [
        "# tagging the test sentences\n",
        "start = time.time()\n",
        "tagged_seq = Viterbi_1(test_tagged_words)\n",
        "end = time.time()\n",
        "difference = end-start\n",
        "\n",
        "print(\"Time taken in seconds: \", difference)\n",
        "\n",
        "# accuracy\n",
        "check = [i for i, j in zip(tagged_seq, test_run_base) if i == j] \n",
        "accuracy = len(check)/len(tagged_seq)\n",
        "print('Modified Viterbi_1 Accuracy: ',accuracy*100)"
      ],
      "execution_count": null,
      "outputs": [
        {
          "output_type": "stream",
          "text": [
            "Time taken in seconds:  23.872464179992676\n",
            "Modified Viterbi_1 Accuracy:  92.10526315789474\n"
          ],
          "name": "stdout"
        }
      ]
    },
    {
      "cell_type": "markdown",
      "metadata": {
        "id": "mdMCY1fGGEt9"
      },
      "source": [
        "Adding Tag occurance probability weights: we will apply weights based on the probability of tag occurance to the transition probabilities of tags and then use the resulting probability for predicting unknown words.\n",
        "\n",
        "This scheme will also take into account that some POS tags are more likely to occur as compared to others."
      ]
    },
    {
      "cell_type": "code",
      "metadata": {
        "colab": {
          "base_uri": "https://localhost:8080/"
        },
        "id": "oSeb1oZND2Y9",
        "outputId": "e583e91d-45ec-4240-b9f6-8e3828cbdb7a"
      },
      "source": [
        "# lets create a list containing tuples of POS tags and POS tag occurance probability, based on training data\n",
        "tag_prob = []\n",
        "total_tag = len([tag for word,tag in train_tagged_words])\n",
        "for t in tags:\n",
        "    each_tag = [tag for word,tag in train_tagged_words if tag==t]\n",
        "    tag_prob.append((t,len(each_tag)/total_tag))\n",
        "\n",
        "tag_prob"
      ],
      "execution_count": null,
      "outputs": [
        {
          "output_type": "execute_result",
          "data": {
            "text/plain": [
              "[('ADV', 0.031422403454065724),\n",
              " ('ADP', 0.09803205856894052),\n",
              " ('NUM', 0.035604409356847125),\n",
              " ('.', 0.11627227882820403),\n",
              " ('DET', 0.08673751394871046),\n",
              " ('NOUN', 0.28624318207890537),\n",
              " ('PRON', 0.02730297120569003),\n",
              " ('CONJ', 0.022224076256426837),\n",
              " ('VERB', 0.13453335697226945),\n",
              " ('ADJ', 0.06384598537862275),\n",
              " ('X', 0.06574405289559586),\n",
              " ('PRT', 0.03203771105572184)]"
            ]
          },
          "metadata": {
            "tags": []
          },
          "execution_count": 24
        }
      ]
    },
    {
      "cell_type": "code",
      "metadata": {
        "id": "iwokzG_zGIKp"
      },
      "source": [
        "def Viterbi_1(words, train_bag = train_tagged_words):\n",
        "    state = []\n",
        "    T = list(set([pair[1] for pair in train_bag]))\n",
        "    \n",
        "    for key, word in enumerate(words):\n",
        "        #initialise list of probability column for a given observation\n",
        "        p = [] \n",
        "        p_transition =[] # list for storing transition probabilities\n",
        "       \n",
        "        for tag in T:\n",
        "            if key == 0:\n",
        "                transition_p = tags_df.loc['.', tag]\n",
        "            else:\n",
        "                transition_p = tags_df.loc[state[-1], tag]\n",
        "                \n",
        "            # compute emission and state probabilities\n",
        "            emission_p = word_given_tag(words[key], tag)[0]/word_given_tag(words[key], tag)[1]\n",
        "            state_probability = emission_p * transition_p    \n",
        "            p.append(state_probability)\n",
        "            \n",
        "            # find POS tag occurance probability\n",
        "            tag_p = [pair[1] for pair in tag_prob if pair[0]==tag ]\n",
        "            \n",
        "            # calculate the transition prob weighted by tag occurance probability.\n",
        "            transition_p = tag_p[0]*transition_p             \n",
        "            p_transition.append(transition_p)\n",
        "            \n",
        "        pmax = max(p)\n",
        "        state_max = T[p.index(pmax)] \n",
        "        \n",
        "      \n",
        "        # if probability is zero (unknown word) then use weighted transition probability\n",
        "        if(pmax==0):\n",
        "            pmax = max(p_transition)\n",
        "            state_max = T[p_transition.index(pmax)]                 \n",
        "                           \n",
        "        else:\n",
        "            state_max = T[p.index(pmax)] \n",
        "        \n",
        "        state.append(state_max)\n",
        "    return list(zip(words, state))"
      ],
      "execution_count": null,
      "outputs": []
    },
    {
      "cell_type": "code",
      "metadata": {
        "colab": {
          "base_uri": "https://localhost:8080/"
        },
        "id": "xmizyy9vGQmQ",
        "outputId": "e2c2fbcd-3789-4e53-af12-6a91619828b0"
      },
      "source": [
        "# tagging the test sentences\n",
        "start = time.time()\n",
        "tagged_seq = Viterbi_1(test_tagged_words)\n",
        "end = time.time()\n",
        "difference = end-start\n",
        "\n",
        "print(\"Time taken in seconds: \", difference)\n",
        "\n",
        "# accuracy\n",
        "check = [i for i, j in zip(tagged_seq, test_run_base) if i == j] \n",
        "accuracy = len(check)/len(tagged_seq)\n",
        "print('Modified Viterbi_1 Accuracy: ',accuracy*100)"
      ],
      "execution_count": null,
      "outputs": [
        {
          "output_type": "stream",
          "text": [
            "Time taken in seconds:  23.579078912734985\n",
            "Modified Viterbi_1 Accuracy:  93.85964912280701\n"
          ],
          "name": "stdout"
        }
      ]
    },
    {
      "cell_type": "code",
      "metadata": {
        "colab": {
          "base_uri": "https://localhost:8080/"
        },
        "id": "b99YayiAGUhw",
        "outputId": "0f004bb9-3ea7-4303-afd1-0c67e99568c2"
      },
      "source": [
        "# let's check the incorrectly tagged words\n",
        "[j for i, j in enumerate(zip(tagged_seq, test_run_base)) if j[0] != j[1]]\n"
      ],
      "execution_count": null,
      "outputs": [
        {
          "output_type": "execute_result",
          "data": {
            "text/plain": [
              "[(('next', 'ADP'), ('next', 'ADJ')),\n",
              " (('Soviet', 'ADJ'), ('Soviet', 'NOUN')),\n",
              " (('off', 'PRT'), ('off', 'ADP')),\n",
              " (('Yet', 'CONJ'), ('Yet', 'ADV')),\n",
              " (('ancillary', 'NOUN'), ('ancillary', 'ADJ')),\n",
              " (('swapped', 'NOUN'), ('swapped', 'VERB')),\n",
              " (('less', 'ADV'), ('less', 'ADJ'))]"
            ]
          },
          "metadata": {
            "tags": []
          },
          "execution_count": 28
        }
      ]
    },
    {
      "cell_type": "code",
      "metadata": {
        "id": "xmeEFmG9Gz3P"
      },
      "source": [
        ""
      ],
      "execution_count": null,
      "outputs": []
    },
    {
      "cell_type": "code",
      "metadata": {
        "id": "MdfvuQalG_VM"
      },
      "source": [
        ""
      ],
      "execution_count": null,
      "outputs": []
    },
    {
      "cell_type": "markdown",
      "metadata": {
        "id": "QeeEKrSbG_vW"
      },
      "source": [
        "Viterbi Modification-Technique II\n",
        "second solution for unknown words:\n",
        "\n",
        "backoff to rule based tagger in case of unknown words.\n",
        "we further observe that POS tag 'X' can be easily encapsulated in regex rule, so we extract it only based on ruled based tagged.\n",
        "Let's define a rule based tagger as below:"
      ]
    },
    {
      "cell_type": "code",
      "metadata": {
        "id": "RmX5zzAkHAW4"
      },
      "source": [
        "# specify patterns for tagging\n",
        "patterns = [\n",
        "    (r'.*ing$', 'VERB'),              # gerund\n",
        "    (r'.*ed$', 'VERB'),               # past tense \n",
        "    (r'.*es$', 'VERB'),               # verb    \n",
        "    (r'.*\\'s$', 'NOUN'),              # possessive nouns\n",
        "    (r'.*s$', 'NOUN'),                # plural nouns\n",
        "    (r'\\*T?\\*?-[0-9]+$', 'X'),        # X\n",
        "    (r'^-?[0-9]+(.[0-9]+)?$', 'NUM'), # cardinal numbers\n",
        "    (r'.*', 'NOUN')                   # nouns\n",
        "]\n",
        "\n",
        "# rule based tagger\n",
        "rule_based_tagger = nltk.RegexpTagger(patterns)"
      ],
      "execution_count": null,
      "outputs": []
    },
    {
      "cell_type": "code",
      "metadata": {
        "id": "vROJeHkFHChd"
      },
      "source": [
        "# Modification in Viterbi Algorithm : Backoff to rule based tagger in case unknown word is encountered.\n",
        "def Viterbi_2(words, train_bag = train_tagged_words):\n",
        "    state = []\n",
        "    T = list(set([pair[1] for pair in train_bag]))\n",
        "    \n",
        "    for key, word in enumerate(words):\n",
        "        #initialise list of probability column for a given observation\n",
        "        p = [] \n",
        "        for tag in T:\n",
        "            if key == 0:\n",
        "                transition_p = tags_df.loc['.', tag]\n",
        "            else:\n",
        "                transition_p = tags_df.loc[state[-1], tag]\n",
        "                \n",
        "            # compute emission and state probabilities\n",
        "            emission_p = word_given_tag(words[key], tag)[0]/word_given_tag(words[key], tag)[1]\n",
        "            state_probability = emission_p * transition_p    \n",
        "            p.append(state_probability)\n",
        "            \n",
        "        pmax = max(p)\n",
        "        state_max = rule_based_tagger.tag([word])[0][1]       \n",
        "       \n",
        "        \n",
        "        if(pmax==0):\n",
        "            state_max = rule_based_tagger.tag([word])[0][1] # assign based on rule based tagger\n",
        "        else:\n",
        "            if state_max != 'X':\n",
        "                # getting state for which probability is maximum\n",
        "                state_max = T[p.index(pmax)]                \n",
        "            \n",
        "        \n",
        "        state.append(state_max)\n",
        "    return list(zip(words, state))"
      ],
      "execution_count": null,
      "outputs": []
    },
    {
      "cell_type": "code",
      "metadata": {
        "colab": {
          "base_uri": "https://localhost:8080/"
        },
        "id": "wZsk8W8XHGVI",
        "outputId": "3a89da65-d649-4eb8-f002-9a61dbfa2653"
      },
      "source": [
        "# tagging the test sentences\n",
        "start = time.time()\n",
        "tagged_seq = Viterbi_2(test_tagged_words)\n",
        "end = time.time()\n",
        "difference = end-start\n",
        "\n",
        "print(\"Time taken in seconds: \", difference)"
      ],
      "execution_count": null,
      "outputs": [
        {
          "output_type": "stream",
          "text": [
            "Time taken in seconds:  24.17051410675049\n"
          ],
          "name": "stdout"
        }
      ]
    },
    {
      "cell_type": "code",
      "metadata": {
        "colab": {
          "base_uri": "https://localhost:8080/"
        },
        "id": "AX98hXjkHKUm",
        "outputId": "fb550a91-47e4-44ba-c97c-a45bced4832c"
      },
      "source": [
        "# accuracy\n",
        "check = [i for i, j in zip(tagged_seq, test_run_base) if i == j] \n",
        "accuracy = len(check)/len(tagged_seq)\n",
        "print('Modified Viterbi_2 Accuracy: ',accuracy*100)"
      ],
      "execution_count": null,
      "outputs": [
        {
          "output_type": "stream",
          "text": [
            "Modified Viterbi_2 Accuracy:  94.73684210526315\n"
          ],
          "name": "stdout"
        }
      ]
    },
    {
      "cell_type": "code",
      "metadata": {
        "colab": {
          "base_uri": "https://localhost:8080/"
        },
        "id": "BYQNszxwHYgi",
        "outputId": "7c2f2240-c807-4497-e903-b0e622518810"
      },
      "source": [
        "# let's check the incorrectly tagged words\n",
        "[j for i, j in enumerate(zip(tagged_seq, test_run_base)) if j[0] != j[1]]"
      ],
      "execution_count": null,
      "outputs": [
        {
          "output_type": "execute_result",
          "data": {
            "text/plain": [
              "[(('next', 'ADP'), ('next', 'ADJ')),\n",
              " (('Soviet', 'ADJ'), ('Soviet', 'NOUN')),\n",
              " (('off', 'PRT'), ('off', 'ADP')),\n",
              " (('Yet', 'CONJ'), ('Yet', 'ADV')),\n",
              " (('ancillary', 'NOUN'), ('ancillary', 'ADJ')),\n",
              " (('less', 'ADV'), ('less', 'ADJ'))]"
            ]
          },
          "metadata": {
            "tags": []
          },
          "execution_count": 33
        }
      ]
    },
    {
      "cell_type": "code",
      "metadata": {
        "id": "npq2zxi-Hc0F"
      },
      "source": [
        ""
      ],
      "execution_count": null,
      "outputs": []
    },
    {
      "cell_type": "code",
      "metadata": {
        "colab": {
          "base_uri": "https://localhost:8080/",
          "height": 129
        },
        "id": "CXJNgS7VHkbg",
        "outputId": "5cf2ec13-d0d5-4a5b-f8c8-b78e6bef86ea"
      },
      "source": [
        "further modification in Viterb_2: We know that the rule based tagger assigns 'NOUN' by default if word does not fall in any rule, to correct this let's assign the tags for any such word based purely on transition probability of tags.\n",
        "\n",
        "So, first we will modify the rule based tagger to output 'NN' instead of 'NOUN' in case word does not satisfy any rules. We also observe that any capitalized word can still be defaulted as 'NOUN' so will add one more rule for that case."
      ],
      "execution_count": null,
      "outputs": [
        {
          "output_type": "error",
          "ename": "SyntaxError",
          "evalue": "ignored",
          "traceback": [
            "\u001b[0;36m  File \u001b[0;32m\"<ipython-input-34-bfaa9a7763c4>\"\u001b[0;36m, line \u001b[0;32m1\u001b[0m\n\u001b[0;31m    further modification in Viterb_2: We know that the rule based tagger assigns 'NOUN' by default if word does not fall in any rule, to correct this let's assign the tags for any such word based purely on transition probability of tags.\u001b[0m\n\u001b[0m                       ^\u001b[0m\n\u001b[0;31mSyntaxError\u001b[0m\u001b[0;31m:\u001b[0m invalid syntax\n"
          ]
        }
      ]
    },
    {
      "cell_type": "code",
      "metadata": {
        "id": "V_NXHi1kHk2f"
      },
      "source": [
        ""
      ],
      "execution_count": null,
      "outputs": []
    },
    {
      "cell_type": "markdown",
      "metadata": {
        "id": "ZbcAXD-cHl13"
      },
      "source": [
        "further modification in Viterb_2: We know that the rule based tagger assigns 'NOUN' by default if word does not fall in any rule, to correct this let's assign the tags for any such word based purely on transition probability of tags.\n",
        "\n",
        "So, first we will modify the rule based tagger to output 'NN' instead of 'NOUN' in case word does not satisfy any rules. We also observe that any capitalized word can still be defaulted as 'NOUN' so will add one more rule for that case."
      ]
    },
    {
      "cell_type": "code",
      "metadata": {
        "id": "1ECxk7UvHmug"
      },
      "source": [
        "# specify patterns for tagging\n",
        "patterns = [\n",
        "    (r'.*ing$', 'VERB'),              # gerund\n",
        "    (r'.*ed$', 'VERB'),               # past tense \n",
        "    (r'.*es$', 'VERB'),               # verb    \n",
        "    (r'.*\\'s$', 'NOUN'),              # possessive nouns\n",
        "    (r'.*s$', 'NOUN'),                # plural nouns\n",
        "    (r'\\*T?\\*?-[0-9]+$', 'X'),        # X\n",
        "    (r'^-?[0-9]+(.[0-9]+)?$', 'NUM'), # cardinal numbers\n",
        "    (r'^[A-Z][a-z].*', 'NOUN'),       # NOUN\n",
        "    (r'.*', 'NN')                     # default\n",
        "]\n",
        "\n",
        "# rule based tagger\n",
        "rule_based_tagger = nltk.RegexpTagger(patterns)"
      ],
      "execution_count": null,
      "outputs": []
    },
    {
      "cell_type": "code",
      "metadata": {
        "id": "kn8bIdmaHpy4"
      },
      "source": [
        "# modified Viterbi\n",
        "def Viterbi_2(words, train_bag = train_tagged_words):\n",
        "    state = []\n",
        "    T = list(set([pair[1] for pair in train_bag]))\n",
        "    \n",
        "    for key, word in enumerate(words):\n",
        "        #initialise list of probability column for a given observation\n",
        "        p = [] \n",
        "        p_transition =[] # for storing transition probabilities\n",
        "        for tag in T:\n",
        "            if key == 0:\n",
        "                transition_p = tags_df.loc['.', tag]\n",
        "            else:\n",
        "                transition_p = tags_df.loc[state[-1], tag]\n",
        "                \n",
        "            # compute emission and state probabilities\n",
        "            emission_p = word_given_tag(words[key], tag)[0]/word_given_tag(words[key], tag)[1]\n",
        "            state_probability = emission_p * transition_p    \n",
        "            p.append(state_probability)\n",
        "            \n",
        "            # find POS tag occurance probability\n",
        "            tag_p = [pair[1] for pair in tag_prob if pair[0]==tag ]\n",
        "            \n",
        "            # calculate the transition prob weighted by tag occurance probability.\n",
        "            transition_p = tag_p[0]*transition_p\n",
        "            p_transition.append(transition_p)\n",
        "            \n",
        "        pmax = max(p)\n",
        "        state_max = rule_based_tagger.tag([word])[0][1] \n",
        "        \n",
        "      \n",
        "        # getting state for which probability is maximum\n",
        "        if(pmax==0):\n",
        "            state_max = rule_based_tagger.tag([word])[0][1] # assign based on rule based tagger\n",
        "            \n",
        "            # if unknown word does not satisfy any rule, find the tag with maximum transition probability\n",
        "            if state_max == 'NN':\n",
        "                pmax = max(p_transition)\n",
        "                state_max = T[p_transition.index(pmax)]                 \n",
        "                \n",
        "        else:\n",
        "             if state_max != 'X':\n",
        "                # getting state for which probability is maximum\n",
        "                state_max = T[p.index(pmax)] \n",
        "        \n",
        "        state.append(state_max)\n",
        "    return list(zip(words, state))"
      ],
      "execution_count": null,
      "outputs": []
    },
    {
      "cell_type": "code",
      "metadata": {
        "colab": {
          "base_uri": "https://localhost:8080/"
        },
        "id": "DDW3F-c3HzWF",
        "outputId": "c6c68f0f-e086-4b7f-f1b7-f0e454908054"
      },
      "source": [
        "# tagging the test sentences\n",
        "start = time.time()\n",
        "tagged_seq = Viterbi_2(test_tagged_words)\n",
        "end = time.time()\n",
        "difference = end-start\n",
        "\n",
        "print(\"Time taken in seconds: \", difference)"
      ],
      "execution_count": null,
      "outputs": [
        {
          "output_type": "stream",
          "text": [
            "Time taken in seconds:  24.032036781311035\n"
          ],
          "name": "stdout"
        }
      ]
    },
    {
      "cell_type": "code",
      "metadata": {
        "colab": {
          "base_uri": "https://localhost:8080/"
        },
        "id": "urdSwqdjH1S0",
        "outputId": "7a79548a-7a49-44b7-cdfa-dfdb9eaf487e"
      },
      "source": [
        "\n",
        "# accuracy\n",
        "check = [i for i, j in zip(tagged_seq, test_run_base) if i == j] \n",
        "accuracy = len(check)/len(tagged_seq)\n",
        "print('Modified Viterbi Algorithm Accuracy: ',accuracy*100)"
      ],
      "execution_count": null,
      "outputs": [
        {
          "output_type": "stream",
          "text": [
            "Modified Viterbi Algorithm Accuracy:  94.73684210526315\n"
          ],
          "name": "stdout"
        }
      ]
    },
    {
      "cell_type": "code",
      "metadata": {
        "colab": {
          "base_uri": "https://localhost:8080/"
        },
        "id": "DxP452tgH8be",
        "outputId": "3feb0874-054c-49e1-edc8-2907f4e6d476"
      },
      "source": [
        "# let's check the incorrectly tagged words\n",
        "[j for i, j in enumerate(zip(tagged_seq, test_run_base)) if j[0] != j[1]]"
      ],
      "execution_count": null,
      "outputs": [
        {
          "output_type": "execute_result",
          "data": {
            "text/plain": [
              "[(('next', 'ADP'), ('next', 'ADJ')),\n",
              " (('Soviet', 'ADJ'), ('Soviet', 'NOUN')),\n",
              " (('off', 'PRT'), ('off', 'ADP')),\n",
              " (('Yet', 'CONJ'), ('Yet', 'ADV')),\n",
              " (('ancillary', 'NOUN'), ('ancillary', 'ADJ')),\n",
              " (('less', 'ADV'), ('less', 'ADJ'))]"
            ]
          },
          "metadata": {
            "tags": []
          },
          "execution_count": 39
        }
      ]
    },
    {
      "cell_type": "code",
      "metadata": {
        "id": "gGPf5WaIIASe"
      },
      "source": [
        ""
      ],
      "execution_count": null,
      "outputs": []
    },
    {
      "cell_type": "markdown",
      "metadata": {
        "id": "yz8gftA_IHlf"
      },
      "source": [
        "Evaluate vanilla Viterbi and modified Viterbi on entire test data"
      ]
    },
    {
      "cell_type": "code",
      "metadata": {
        "id": "2khJ4X9ZIIAk"
      },
      "source": [
        "test_tagged_words = [tup[0] for sent in test_set for tup in sent]\n",
        "test_run_base = [tup for sent in test_set for tup in sent]"
      ],
      "execution_count": null,
      "outputs": []
    },
    {
      "cell_type": "code",
      "metadata": {
        "colab": {
          "base_uri": "https://localhost:8080/"
        },
        "id": "s2CeB2H9IKxr",
        "outputId": "fd34c875-df96-41f3-9037-eb55184accf5"
      },
      "source": [
        "\n",
        "# tagging the test sentences\n",
        "start = time.time()\n",
        "tagged_seq = Viterbi(test_tagged_words)\n",
        "end = time.time()\n",
        "difference = end-start\n",
        "\n",
        "print(\"Time taken in seconds: \", difference)\n",
        "\n",
        "# accuracy\n",
        "check = [i for i, j in zip(tagged_seq, test_run_base) if i == j] \n",
        "accuracy = len(check)/len(tagged_seq)\n",
        "print('Modified Viterbi Algorithm Accuracy: ',accuracy*100)"
      ],
      "execution_count": null,
      "outputs": [
        {
          "output_type": "stream",
          "text": [
            "Time taken in seconds:  1002.5364520549774\n",
            "Modified Viterbi Algorithm Accuracy:  90.24848611401127\n"
          ],
          "name": "stdout"
        }
      ]
    },
    {
      "cell_type": "code",
      "metadata": {
        "colab": {
          "base_uri": "https://localhost:8080/"
        },
        "id": "6Q3FyKBWIMwT",
        "outputId": "5340ed0d-3fbe-4328-cee2-6a97185895f2"
      },
      "source": [
        "\n",
        "# tagging the test sentences\n",
        "start = time.time()\n",
        "tagged_seq = Viterbi_2(test_tagged_words)\n",
        "end = time.time()\n",
        "difference = end-start\n",
        "\n",
        "print(\"Time taken in seconds: \", difference)\n",
        "\n",
        "# accuracy\n",
        "check = [i for i, j in zip(tagged_seq, test_run_base) if i == j] \n",
        "accuracy = len(check)/len(tagged_seq)\n",
        "print('Modified Viterbi Algorithm Accuracy: ',accuracy*100)"
      ],
      "execution_count": null,
      "outputs": [
        {
          "output_type": "stream",
          "text": [
            "Time taken in seconds:  1000.1564807891846\n",
            "Modified Viterbi Algorithm Accuracy:  95.42702025475047\n"
          ],
          "name": "stdout"
        }
      ]
    },
    {
      "cell_type": "code",
      "metadata": {
        "id": "9yRYdSrqMGfm"
      },
      "source": [
        ""
      ],
      "execution_count": null,
      "outputs": []
    }
  ]
}